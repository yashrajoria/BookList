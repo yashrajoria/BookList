{
  "nbformat": 4,
  "nbformat_minor": 0,
  "metadata": {
    "colab": {
      "name": "AI UPE",
      "provenance": [],
      "collapsed_sections": [],
      "authorship_tag": "ABX9TyOt1SXhkD/lDPexS9otqofg",
      "include_colab_link": true
    },
    "kernelspec": {
      "name": "python3",
      "display_name": "Python 3"
    },
    "language_info": {
      "name": "python"
    }
  },
  "cells": [
    {
      "cell_type": "markdown",
      "metadata": {
        "id": "view-in-github",
        "colab_type": "text"
      },
      "source": [
        "<a href=\"https://colab.research.google.com/github/yashrajoria/BookList/blob/master/AI_UPE.ipynb\" target=\"_parent\"><img src=\"https://colab.research.google.com/assets/colab-badge.svg\" alt=\"Open In Colab\"/></a>"
      ]
    },
    {
      "cell_type": "code",
      "metadata": {
        "colab": {
          "base_uri": "https://localhost:8080/"
        },
        "id": "7vmC-88D9FNb",
        "outputId": "7147e640-df49-4e1d-99ad-718446654882"
      },
      "source": [
        "def aStarAlgo(start_node, stop_node):\n",
        "         \n",
        "        open_set = set(start_node) \n",
        "        closed_set = set()\n",
        "        g = {}\n",
        "        parents = {}\n",
        " \n",
        "        \n",
        "        g[start_node] = 0\n",
        "        \n",
        "        parents[start_node] = start_node\n",
        "         \n",
        "         \n",
        "        while len(open_set) > 0:\n",
        "            n = None\n",
        " \n",
        "            \n",
        "            for v in open_set:\n",
        "                if n == None or g[v] + heuristic(v) < g[n] + heuristic(n):\n",
        "                    n = v\n",
        "             \n",
        "                     \n",
        "            if n == stop_node or Graph_nodes[n] == None:\n",
        "                pass\n",
        "            else:\n",
        "                for (m, weight) in get_neighbors(n):\n",
        "                    \n",
        "                    if m not in open_set and m not in closed_set:\n",
        "                        open_set.add(m)\n",
        "                        parents[m] = n\n",
        "                        g[m] = g[n] + weight\n",
        "                         \n",
        "     \n",
        "                    \n",
        "                    else:\n",
        "                        if g[m] > g[n] + weight:\n",
        "                            \n",
        "                            g[m] = g[n] + weight\n",
        "                            \n",
        "                            parents[m] = n\n",
        "                             \n",
        "                            \n",
        "                            if m in closed_set:\n",
        "                                closed_set.remove(m)\n",
        "                                open_set.add(m)\n",
        " \n",
        "            if n == None:\n",
        "                print('Path does not exist!')\n",
        "                return None\n",
        " \n",
        "            \n",
        "            if n == stop_node:\n",
        "                path = []\n",
        " \n",
        "                while parents[n] != n:\n",
        "                    path.append(n)\n",
        "                    n = parents[n]\n",
        " \n",
        "                path.append(start_node)\n",
        " \n",
        "                path.reverse()\n",
        " \n",
        "                print('Path found: {}'.format(path))\n",
        "                return path\n",
        " \n",
        " \n",
        "            \n",
        "            open_set.remove(n)\n",
        "            closed_set.add(n)\n",
        " \n",
        "        print('Path does not exist!')\n",
        "        return None\n",
        "def get_neighbors(v):\n",
        "    if v in Graph_nodes:\n",
        "        return Graph_nodes[v]\n",
        "    else:\n",
        "        return None\n",
        "def heuristic(n):\n",
        "        H_dist = {\n",
        "            'S': 17,\n",
        "            'A': 10,\n",
        "            'B': 13,\n",
        "            'C': 4,\n",
        "            'D': 2,\n",
        "            'E': 4,\n",
        "            'F': 1,\n",
        "            'G': 0,\n",
        "            \n",
        "             \n",
        "        }\n",
        " \n",
        "        return H_dist[n]\n",
        " \n",
        "  \n",
        "Graph_nodes = {\n",
        "    'S': [('A', 6), ('B', 5),('C',10)],\n",
        "    'A': [('S', 7), ('E', 6)],\n",
        "    'B': [('S', 5),('E',6),('D',7)],\n",
        "    'C': [('S', 10),('D',6)],\n",
        "    'D': [('C', 6),('B',7),('F',6)],\n",
        "    'E': [('A', 6),('B',6),('F',4)],\n",
        "    'F': [('E', 4),('D',6),('G',3)],\t\n",
        "    'G': None,\n",
        "     \n",
        "}\n",
        "aStarAlgo('S', 'G')"
      ],
      "execution_count": 10,
      "outputs": [
        {
          "output_type": "stream",
          "text": [
            "Path found: ['S', 'B', 'E', 'F', 'G']\n"
          ],
          "name": "stdout"
        },
        {
          "output_type": "execute_result",
          "data": {
            "text/plain": [
              "['S', 'B', 'E', 'F', 'G']"
            ]
          },
          "metadata": {
            "tags": []
          },
          "execution_count": 10
        }
      ]
    }
  ]
}